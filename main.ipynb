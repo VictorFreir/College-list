{
  "nbformat": 4,
  "nbformat_minor": 0,
  "metadata": {
    "kernelspec": {
      "language": "python",
      "display_name": "Python 3",
      "name": "python3"
    },
    "language_info": {
      "name": "python",
      "version": "3.7.10",
      "mimetype": "text/x-python",
      "codemirror_mode": {
        "name": "ipython",
        "version": 3
      },
      "pygments_lexer": "ipython3",
      "nbconvert_exporter": "python",
      "file_extension": ".py"
    },
    "colab": {
      "name": "main.ipynb",
      "provenance": []
    }
  },
  "cells": [
    {
      "cell_type": "markdown",
      "metadata": {
        "id": "-WCbW8Ouijpu"
      },
      "source": [
        "<h1><strong>Montando uma College List com Python.</strong></h1>\n",
        "<h5>Faremos uma análise das melhores 1000 universidades para montarmos uma College List para um aluno fictício utilizando Python!\n",
        "</h5>\n",
        "<h2>Apresentação da situação problema.</h2>\n",
        "<p>Faala, dev! Pegue seu café, limpe seus óculos, porque a situação problema de hoje é a seguinte: Temos um aluno fictício iniciando o seu Ensino Médio já preocupado com seu futuro acadêmico. Ele precisa montar sua College List, ou seja, sua lista de universidades desejadas, para já ir se preparando para os processos seletivos.</p>\n",
        "<br>\n",
        "Entendido o nosso problema, vamos codar!\n",
        "<br>\n",
        "<h2>Importação e limpeza dos dados!</h2>\n",
        "\n",
        "Para começarmos, vamos importar a base de dados e as bibliotecas Pandas e Matplotlib:\n"
      ]
    },
    {
      "cell_type": "code",
      "metadata": {
        "_uuid": "8f2839f25d086af736a60e9eeb907d3b93b6e0e5",
        "_cell_guid": "b1076dfc-b9ad-4769-8c92-a6c4dae69d19",
        "execution": {
          "iopub.status.busy": "2021-06-24T17:57:25.790552Z",
          "iopub.execute_input": "2021-06-24T17:57:25.790884Z",
          "iopub.status.idle": "2021-06-24T17:57:25.813848Z",
          "shell.execute_reply.started": "2021-06-24T17:57:25.790856Z",
          "shell.execute_reply": "2021-06-24T17:57:25.813058Z"
        },
        "trusted": true,
        "id": "ykPdpDAYgKlo"
      },
      "source": [
        "import pandas as pd \n",
        "import matplotlib.pyplot as plt\n",
        "import numpy as np\n",
        "df = pd.read_csv('2020-QS-World-University-Rankings.csv',encoding = 'ISO-8859-1')"
      ],
      "execution_count": 16,
      "outputs": []
    },
    {
      "cell_type": "markdown",
      "metadata": {
        "id": "-I3JGbfikJjO"
      },
      "source": [
        "<p>“Poxa, Victor, mas eu nem vi a base de dados, bora dar uma olhadinha?” Seu pedido é uma ordem, vamos ver as 5 primeiras linhas da base de dados para termos uma ideia das variáveis que iremos analisar:</p>"
      ]
    },
    {
      "cell_type": "code",
      "metadata": {
        "execution": {
          "iopub.status.busy": "2021-06-24T17:57:27.959532Z",
          "iopub.execute_input": "2021-06-24T17:57:27.959859Z",
          "iopub.status.idle": "2021-06-24T17:57:27.986457Z",
          "shell.execute_reply.started": "2021-06-24T17:57:27.959829Z",
          "shell.execute_reply": "2021-06-24T17:57:27.985570Z"
        },
        "trusted": true,
        "colab": {
          "base_uri": "https://localhost:8080/",
          "height": 377
        },
        "id": "meIcpZ_6gKls",
        "outputId": "e5a1127e-084a-4696-ab26-689262f57dc6"
      },
      "source": [
        "df.head()"
      ],
      "execution_count": 17,
      "outputs": [
        {
          "output_type": "execute_result",
          "data": {
            "text/html": [
              "<div>\n",
              "<style scoped>\n",
              "    .dataframe tbody tr th:only-of-type {\n",
              "        vertical-align: middle;\n",
              "    }\n",
              "\n",
              "    .dataframe tbody tr th {\n",
              "        vertical-align: top;\n",
              "    }\n",
              "\n",
              "    .dataframe thead th {\n",
              "        text-align: right;\n",
              "    }\n",
              "</style>\n",
              "<table border=\"1\" class=\"dataframe\">\n",
              "  <thead>\n",
              "    <tr style=\"text-align: right;\">\n",
              "      <th></th>\n",
              "      <th>Rank in 2020</th>\n",
              "      <th>Rank in 2019</th>\n",
              "      <th>Institution Name</th>\n",
              "      <th>Country</th>\n",
              "      <th>Classification</th>\n",
              "      <th>Unnamed: 5</th>\n",
              "      <th>Unnamed: 6</th>\n",
              "      <th>Unnamed: 7</th>\n",
              "      <th>Unnamed: 8</th>\n",
              "      <th>Academic Reputation</th>\n",
              "      <th>Unnamed: 10</th>\n",
              "      <th>Employer Reputation</th>\n",
              "      <th>Unnamed: 12</th>\n",
              "      <th>Faculty Student</th>\n",
              "      <th>Unnamed: 14</th>\n",
              "      <th>Citations per Faculty</th>\n",
              "      <th>Unnamed: 16</th>\n",
              "      <th>International Faculty</th>\n",
              "      <th>Unnamed: 18</th>\n",
              "      <th>International Students</th>\n",
              "      <th>Unnamed: 20</th>\n",
              "      <th>Overall Score</th>\n",
              "    </tr>\n",
              "  </thead>\n",
              "  <tbody>\n",
              "    <tr>\n",
              "      <th>0</th>\n",
              "      <td>NaN</td>\n",
              "      <td>NaN</td>\n",
              "      <td>NaN</td>\n",
              "      <td>NaN</td>\n",
              "      <td>SIZE</td>\n",
              "      <td>FOCUS</td>\n",
              "      <td>RESEARCH INTENSITY</td>\n",
              "      <td>AGE</td>\n",
              "      <td>STATUS</td>\n",
              "      <td>SCORE</td>\n",
              "      <td>RANK</td>\n",
              "      <td>SCORE</td>\n",
              "      <td>RANK</td>\n",
              "      <td>SCORE</td>\n",
              "      <td>RANK</td>\n",
              "      <td>SCORE</td>\n",
              "      <td>RANK</td>\n",
              "      <td>SCORE</td>\n",
              "      <td>RANK</td>\n",
              "      <td>SCORE</td>\n",
              "      <td>RANK</td>\n",
              "      <td>NaN</td>\n",
              "    </tr>\n",
              "    <tr>\n",
              "      <th>1</th>\n",
              "      <td>1</td>\n",
              "      <td>1</td>\n",
              "      <td>Massachusetts Institute of Technology (MIT)</td>\n",
              "      <td>United States</td>\n",
              "      <td>M</td>\n",
              "      <td>CO</td>\n",
              "      <td>VH</td>\n",
              "      <td>5</td>\n",
              "      <td>B</td>\n",
              "      <td>100</td>\n",
              "      <td>5</td>\n",
              "      <td>100</td>\n",
              "      <td>4</td>\n",
              "      <td>100</td>\n",
              "      <td>15</td>\n",
              "      <td>99.8</td>\n",
              "      <td>7</td>\n",
              "      <td>100</td>\n",
              "      <td>43</td>\n",
              "      <td>94.1</td>\n",
              "      <td>87</td>\n",
              "      <td>100</td>\n",
              "    </tr>\n",
              "    <tr>\n",
              "      <th>2</th>\n",
              "      <td>2</td>\n",
              "      <td>2</td>\n",
              "      <td>Stanford University</td>\n",
              "      <td>United States</td>\n",
              "      <td>L</td>\n",
              "      <td>FC</td>\n",
              "      <td>VH</td>\n",
              "      <td>5</td>\n",
              "      <td>B</td>\n",
              "      <td>100</td>\n",
              "      <td>4</td>\n",
              "      <td>100</td>\n",
              "      <td>5</td>\n",
              "      <td>100</td>\n",
              "      <td>12</td>\n",
              "      <td>98.6</td>\n",
              "      <td>13</td>\n",
              "      <td>99.8</td>\n",
              "      <td>62</td>\n",
              "      <td>67.7</td>\n",
              "      <td>196</td>\n",
              "      <td>98.4</td>\n",
              "    </tr>\n",
              "    <tr>\n",
              "      <th>3</th>\n",
              "      <td>3</td>\n",
              "      <td>3</td>\n",
              "      <td>Harvard University</td>\n",
              "      <td>United States</td>\n",
              "      <td>L</td>\n",
              "      <td>FC</td>\n",
              "      <td>VH</td>\n",
              "      <td>5</td>\n",
              "      <td>B</td>\n",
              "      <td>100</td>\n",
              "      <td>1</td>\n",
              "      <td>100</td>\n",
              "      <td>1</td>\n",
              "      <td>98.7</td>\n",
              "      <td>40</td>\n",
              "      <td>99.6</td>\n",
              "      <td>8</td>\n",
              "      <td>86.3</td>\n",
              "      <td>186</td>\n",
              "      <td>62.2</td>\n",
              "      <td>221</td>\n",
              "      <td>97.4</td>\n",
              "    </tr>\n",
              "    <tr>\n",
              "      <th>4</th>\n",
              "      <td>4</td>\n",
              "      <td>5</td>\n",
              "      <td>University of Oxford</td>\n",
              "      <td>United Kingdom</td>\n",
              "      <td>L</td>\n",
              "      <td>FC</td>\n",
              "      <td>VH</td>\n",
              "      <td>5</td>\n",
              "      <td>A</td>\n",
              "      <td>100</td>\n",
              "      <td>3</td>\n",
              "      <td>100</td>\n",
              "      <td>3</td>\n",
              "      <td>100</td>\n",
              "      <td>8</td>\n",
              "      <td>84.7</td>\n",
              "      <td>45</td>\n",
              "      <td>99.7</td>\n",
              "      <td>64</td>\n",
              "      <td>98.5</td>\n",
              "      <td>50</td>\n",
              "      <td>97.2</td>\n",
              "    </tr>\n",
              "  </tbody>\n",
              "</table>\n",
              "</div>"
            ],
            "text/plain": [
              "  Rank in 2020 Rank in 2019  ... Unnamed: 20 Overall Score\n",
              "0          NaN          NaN  ...        RANK           NaN\n",
              "1            1            1  ...          87           100\n",
              "2            2            2  ...         196          98.4\n",
              "3            3            3  ...         221          97.4\n",
              "4            4            5  ...          50          97.2\n",
              "\n",
              "[5 rows x 22 columns]"
            ]
          },
          "metadata": {
            "tags": []
          },
          "execution_count": 17
        }
      ]
    },
    {
      "cell_type": "markdown",
      "metadata": {
        "id": "6AqF70hxiiJv"
      },
      "source": [
        "<p>Veja que temos muitas colunas que não são interessante para nosso caso e muitas com nomes errados ou até sem nome. Dessa forma, vamos fazer uma limpeza nesses dados, selecionando apenas as colunas mais interessantes para nossa análise e renomeando-as para melhor compreensão:</p>"
      ]
    },
    {
      "cell_type": "code",
      "metadata": {
        "execution": {
          "iopub.status.busy": "2021-06-24T17:57:29.588654Z",
          "iopub.execute_input": "2021-06-24T17:57:29.589145Z",
          "iopub.status.idle": "2021-06-24T17:57:29.609694Z",
          "shell.execute_reply.started": "2021-06-24T17:57:29.589111Z",
          "shell.execute_reply": "2021-06-24T17:57:29.608836Z"
        },
        "trusted": true,
        "colab": {
          "base_uri": "https://localhost:8080/",
          "height": 419
        },
        "id": "Ryr4sqv_gKlu",
        "outputId": "4bc22124-2a44-4c06-d4ec-8527405b3c18"
      },
      "source": [
        "df = df.rename(columns={'Rank in 2020':'rank','International Students':'international','Academic Reputation':'reputation',})\n",
        "df = df.loc[:,df.columns.isin(['rank','international','reputation','Country','Classification','Institution Name'])]\n",
        "df"
      ],
      "execution_count": 18,
      "outputs": [
        {
          "output_type": "execute_result",
          "data": {
            "text/html": [
              "<div>\n",
              "<style scoped>\n",
              "    .dataframe tbody tr th:only-of-type {\n",
              "        vertical-align: middle;\n",
              "    }\n",
              "\n",
              "    .dataframe tbody tr th {\n",
              "        vertical-align: top;\n",
              "    }\n",
              "\n",
              "    .dataframe thead th {\n",
              "        text-align: right;\n",
              "    }\n",
              "</style>\n",
              "<table border=\"1\" class=\"dataframe\">\n",
              "  <thead>\n",
              "    <tr style=\"text-align: right;\">\n",
              "      <th></th>\n",
              "      <th>rank</th>\n",
              "      <th>Institution Name</th>\n",
              "      <th>Country</th>\n",
              "      <th>Classification</th>\n",
              "      <th>reputation</th>\n",
              "      <th>international</th>\n",
              "    </tr>\n",
              "  </thead>\n",
              "  <tbody>\n",
              "    <tr>\n",
              "      <th>0</th>\n",
              "      <td>NaN</td>\n",
              "      <td>NaN</td>\n",
              "      <td>NaN</td>\n",
              "      <td>SIZE</td>\n",
              "      <td>SCORE</td>\n",
              "      <td>SCORE</td>\n",
              "    </tr>\n",
              "    <tr>\n",
              "      <th>1</th>\n",
              "      <td>1</td>\n",
              "      <td>Massachusetts Institute of Technology (MIT)</td>\n",
              "      <td>United States</td>\n",
              "      <td>M</td>\n",
              "      <td>100</td>\n",
              "      <td>94.1</td>\n",
              "    </tr>\n",
              "    <tr>\n",
              "      <th>2</th>\n",
              "      <td>2</td>\n",
              "      <td>Stanford University</td>\n",
              "      <td>United States</td>\n",
              "      <td>L</td>\n",
              "      <td>100</td>\n",
              "      <td>67.7</td>\n",
              "    </tr>\n",
              "    <tr>\n",
              "      <th>3</th>\n",
              "      <td>3</td>\n",
              "      <td>Harvard University</td>\n",
              "      <td>United States</td>\n",
              "      <td>L</td>\n",
              "      <td>100</td>\n",
              "      <td>62.2</td>\n",
              "    </tr>\n",
              "    <tr>\n",
              "      <th>4</th>\n",
              "      <td>4</td>\n",
              "      <td>University of Oxford</td>\n",
              "      <td>United Kingdom</td>\n",
              "      <td>L</td>\n",
              "      <td>100</td>\n",
              "      <td>98.5</td>\n",
              "    </tr>\n",
              "    <tr>\n",
              "      <th>...</th>\n",
              "      <td>...</td>\n",
              "      <td>...</td>\n",
              "      <td>...</td>\n",
              "      <td>...</td>\n",
              "      <td>...</td>\n",
              "      <td>...</td>\n",
              "    </tr>\n",
              "    <tr>\n",
              "      <th>1020</th>\n",
              "      <td>NaN</td>\n",
              "      <td>Université Sorbonne Nouvelle Paris 3</td>\n",
              "      <td>France</td>\n",
              "      <td>L</td>\n",
              "      <td>37.7</td>\n",
              "      <td>98.5</td>\n",
              "    </tr>\n",
              "    <tr>\n",
              "      <th>1021</th>\n",
              "      <td>NaN</td>\n",
              "      <td>University of California, San Francisco (UCSF)</td>\n",
              "      <td>United States</td>\n",
              "      <td>S</td>\n",
              "      <td>45.6</td>\n",
              "      <td>-</td>\n",
              "    </tr>\n",
              "    <tr>\n",
              "      <th>1022</th>\n",
              "      <td>NaN</td>\n",
              "      <td>University of Economics, Prague</td>\n",
              "      <td>Czech Republic</td>\n",
              "      <td>L</td>\n",
              "      <td>-</td>\n",
              "      <td>43.9</td>\n",
              "    </tr>\n",
              "    <tr>\n",
              "      <th>1023</th>\n",
              "      <td>NaN</td>\n",
              "      <td>Weizmann Institute of Science</td>\n",
              "      <td>Israel</td>\n",
              "      <td>S</td>\n",
              "      <td>20.8</td>\n",
              "      <td>NaN</td>\n",
              "    </tr>\n",
              "    <tr>\n",
              "      <th>1024</th>\n",
              "      <td>NaN</td>\n",
              "      <td>WHU Otto Beisheim School of Management - Koblenz</td>\n",
              "      <td>Germany</td>\n",
              "      <td>S</td>\n",
              "      <td>-</td>\n",
              "      <td>28.4</td>\n",
              "    </tr>\n",
              "  </tbody>\n",
              "</table>\n",
              "<p>1025 rows × 6 columns</p>\n",
              "</div>"
            ],
            "text/plain": [
              "     rank  ... international\n",
              "0     NaN  ...         SCORE\n",
              "1       1  ...          94.1\n",
              "2       2  ...          67.7\n",
              "3       3  ...          62.2\n",
              "4       4  ...          98.5\n",
              "...   ...  ...           ...\n",
              "1020  NaN  ...          98.5\n",
              "1021  NaN  ...             -\n",
              "1022  NaN  ...          43.9\n",
              "1023  NaN  ...           NaN\n",
              "1024  NaN  ...          28.4\n",
              "\n",
              "[1025 rows x 6 columns]"
            ]
          },
          "metadata": {
            "tags": []
          },
          "execution_count": 18
        }
      ]
    },
    {
      "cell_type": "markdown",
      "metadata": {
        "id": "FinkCiYuktxD"
      },
      "source": [
        "<p>Bem melhor, né? NÃO, PERA! Mas o que são esses NaN’s? Bem esses NaN’s são dados faltantes, para uma limpeza de dados mais eficaz nós devemos remove-los:</p>"
      ]
    },
    {
      "cell_type": "code",
      "metadata": {
        "execution": {
          "iopub.status.busy": "2021-06-24T17:57:30.227355Z",
          "iopub.execute_input": "2021-06-24T17:57:30.227690Z",
          "iopub.status.idle": "2021-06-24T17:57:30.245965Z",
          "shell.execute_reply.started": "2021-06-24T17:57:30.227661Z",
          "shell.execute_reply": "2021-06-24T17:57:30.245358Z"
        },
        "trusted": true,
        "colab": {
          "base_uri": "https://localhost:8080/",
          "height": 419
        },
        "id": "vpX5jjxmgKlv",
        "outputId": "27babb9f-3c17-41cc-d28f-7c0f71881510"
      },
      "source": [
        "df = df.dropna()\n",
        "df"
      ],
      "execution_count": 19,
      "outputs": [
        {
          "output_type": "execute_result",
          "data": {
            "text/html": [
              "<div>\n",
              "<style scoped>\n",
              "    .dataframe tbody tr th:only-of-type {\n",
              "        vertical-align: middle;\n",
              "    }\n",
              "\n",
              "    .dataframe tbody tr th {\n",
              "        vertical-align: top;\n",
              "    }\n",
              "\n",
              "    .dataframe thead th {\n",
              "        text-align: right;\n",
              "    }\n",
              "</style>\n",
              "<table border=\"1\" class=\"dataframe\">\n",
              "  <thead>\n",
              "    <tr style=\"text-align: right;\">\n",
              "      <th></th>\n",
              "      <th>rank</th>\n",
              "      <th>Institution Name</th>\n",
              "      <th>Country</th>\n",
              "      <th>Classification</th>\n",
              "      <th>reputation</th>\n",
              "      <th>international</th>\n",
              "    </tr>\n",
              "  </thead>\n",
              "  <tbody>\n",
              "    <tr>\n",
              "      <th>1</th>\n",
              "      <td>1</td>\n",
              "      <td>Massachusetts Institute of Technology (MIT)</td>\n",
              "      <td>United States</td>\n",
              "      <td>M</td>\n",
              "      <td>100</td>\n",
              "      <td>94.1</td>\n",
              "    </tr>\n",
              "    <tr>\n",
              "      <th>2</th>\n",
              "      <td>2</td>\n",
              "      <td>Stanford University</td>\n",
              "      <td>United States</td>\n",
              "      <td>L</td>\n",
              "      <td>100</td>\n",
              "      <td>67.7</td>\n",
              "    </tr>\n",
              "    <tr>\n",
              "      <th>3</th>\n",
              "      <td>3</td>\n",
              "      <td>Harvard University</td>\n",
              "      <td>United States</td>\n",
              "      <td>L</td>\n",
              "      <td>100</td>\n",
              "      <td>62.2</td>\n",
              "    </tr>\n",
              "    <tr>\n",
              "      <th>4</th>\n",
              "      <td>4</td>\n",
              "      <td>University of Oxford</td>\n",
              "      <td>United Kingdom</td>\n",
              "      <td>L</td>\n",
              "      <td>100</td>\n",
              "      <td>98.5</td>\n",
              "    </tr>\n",
              "    <tr>\n",
              "      <th>5</th>\n",
              "      <td>5</td>\n",
              "      <td>California Institute of Technology (Caltech)</td>\n",
              "      <td>United States</td>\n",
              "      <td>S</td>\n",
              "      <td>97.8</td>\n",
              "      <td>87.3</td>\n",
              "    </tr>\n",
              "    <tr>\n",
              "      <th>...</th>\n",
              "      <td>...</td>\n",
              "      <td>...</td>\n",
              "      <td>...</td>\n",
              "      <td>...</td>\n",
              "      <td>...</td>\n",
              "      <td>...</td>\n",
              "    </tr>\n",
              "    <tr>\n",
              "      <th>998</th>\n",
              "      <td>801-1000</td>\n",
              "      <td>Warsaw University of Life Sciences</td>\n",
              "      <td>Poland</td>\n",
              "      <td>L</td>\n",
              "      <td>-</td>\n",
              "      <td>-</td>\n",
              "    </tr>\n",
              "    <tr>\n",
              "      <th>999</th>\n",
              "      <td>801-1000</td>\n",
              "      <td>Wroc?aw University of Science and Technology</td>\n",
              "      <td>Poland</td>\n",
              "      <td>L</td>\n",
              "      <td>-</td>\n",
              "      <td>-</td>\n",
              "    </tr>\n",
              "    <tr>\n",
              "      <th>1000</th>\n",
              "      <td>801-1000</td>\n",
              "      <td>Wuhan University of Technology</td>\n",
              "      <td>China</td>\n",
              "      <td>XL</td>\n",
              "      <td>-</td>\n",
              "      <td>-</td>\n",
              "    </tr>\n",
              "    <tr>\n",
              "      <th>1001</th>\n",
              "      <td>801-1000</td>\n",
              "      <td>Xi'an Jiaotong-Liverpool University</td>\n",
              "      <td>China</td>\n",
              "      <td>M</td>\n",
              "      <td>-</td>\n",
              "      <td>-</td>\n",
              "    </tr>\n",
              "    <tr>\n",
              "      <th>1002</th>\n",
              "      <td>801-1000</td>\n",
              "      <td>Yeungnam University</td>\n",
              "      <td>South Korea</td>\n",
              "      <td>L</td>\n",
              "      <td>-</td>\n",
              "      <td>-</td>\n",
              "    </tr>\n",
              "  </tbody>\n",
              "</table>\n",
              "<p>997 rows × 6 columns</p>\n",
              "</div>"
            ],
            "text/plain": [
              "            rank  ... international\n",
              "1              1  ...          94.1\n",
              "2              2  ...          67.7\n",
              "3              3  ...          62.2\n",
              "4              4  ...          98.5\n",
              "5              5  ...          87.3\n",
              "...          ...  ...           ...\n",
              "998     801-1000  ...             -\n",
              "999     801-1000  ...             -\n",
              "1000    801-1000  ...             -\n",
              "1001    801-1000  ...             -\n",
              "1002    801-1000  ...             -\n",
              "\n",
              "[997 rows x 6 columns]"
            ]
          },
          "metadata": {
            "tags": []
          },
          "execution_count": 19
        }
      ]
    },
    {
      "cell_type": "markdown",
      "metadata": {
        "id": "8P0FBNUBk6rJ"
      },
      "source": [
        "<p>Finalmente! Agora, nossos dados estão bacanas, com apenas o essencial para essa análise e sem “dados sujos”, que atrapalhariam nossa análise.</p>"
      ]
    },
    {
      "cell_type": "markdown",
      "metadata": {
        "id": "uARtAcwDlCQA"
      },
      "source": [
        "<h2>Explorando os dados!</h2>\n",
        "<p>Tendo em mente que os processos seletivos universitários de cada país são muito diferentes, é interessante começarmos nossa exploração restringindo a College List à alguns países. Para tal critério veremos quais países tem mais universidades nesse ranking das melhores 1000 universidades do mundo:</p>"
      ]
    },
    {
      "cell_type": "code",
      "metadata": {
        "execution": {
          "iopub.status.busy": "2021-06-24T17:57:31.722882Z",
          "iopub.execute_input": "2021-06-24T17:57:31.723233Z",
          "iopub.status.idle": "2021-06-24T17:57:31.876715Z",
          "shell.execute_reply.started": "2021-06-24T17:57:31.723203Z",
          "shell.execute_reply": "2021-06-24T17:57:31.875943Z"
        },
        "trusted": true,
        "colab": {
          "base_uri": "https://localhost:8080/",
          "height": 374
        },
        "id": "H5vw0GdJgKlv",
        "outputId": "7b3830ee-b176-4909-8fc8-c781a8f626e2"
      },
      "source": [
        "space = [0,0,0,0,0.1]\n",
        "mycolors = ['#B7A3EA','#8FFFFE','#A6FA75','#EAE168','#FA0800']\n",
        "valores = df.groupby('Country').Classification.count().sort_values().tail()\n",
        "plt.figure()\n",
        "df.groupby('Country').Classification.count().sort_values().tail().plot.pie(figsize=(6,6),shadow=True,startangle=120,explode=space,colors=mycolors,autopct='%1.f%%')\n",
        "plt.ylabel('')"
      ],
      "execution_count": 20,
      "outputs": [
        {
          "output_type": "execute_result",
          "data": {
            "text/plain": [
              "Text(0, 0.5, '')"
            ]
          },
          "metadata": {
            "tags": []
          },
          "execution_count": 20
        },
        {
          "output_type": "display_data",
          "data": {
            "image/png": "[encoded data removed]",
            "text/plain": [
              "<Figure size 432x432 with 1 Axes>"
            ]
          },
          "metadata": {
            "tags": []
          }
        }
      ]
    },
    {
      "cell_type": "markdown",
      "metadata": {
        "id": "co2D1NjYlQgA"
      },
      "source": [
        "<p>Bem, vemos que Estados Unidos e Reino Unido são grandes concorrentes para estar no nosso radar. Esse gráfico deu uma boa reduzida nas opções. No entanto nosso aluno está tão entusiasmado que acabou de nos mandar um e-mail avisando que quer aplicar para universidades que estejam no top 100 melhores universidades do mundo.</p>\n",
        "<br>\n",
        "<p>Dessa forma, vamos recriar esse gráfico com apenas as 100 melhores universidades para filtrarmos os países:</p>"
      ]
    },
    {
      "cell_type": "code",
      "metadata": {
        "execution": {
          "iopub.status.busy": "2021-06-24T17:57:33.583290Z",
          "iopub.execute_input": "2021-06-24T17:57:33.583646Z",
          "iopub.status.idle": "2021-06-24T17:57:33.731119Z",
          "shell.execute_reply.started": "2021-06-24T17:57:33.583617Z",
          "shell.execute_reply": "2021-06-24T17:57:33.730202Z"
        },
        "trusted": true,
        "colab": {
          "base_uri": "https://localhost:8080/",
          "height": 374
        },
        "id": "kbAehyqtgKlw",
        "outputId": "8e275053-0c14-42e2-d06e-88e423b2852c"
      },
      "source": [
        "df.iloc[:100].groupby('Country').Classification.count().sort_values().tail().plot.pie(figsize=(6,6),shadow=True,startangle=125,explode=space,colors=mycolors,autopct='%1.f%%')\n",
        "plt.ylabel('')"
      ],
      "execution_count": 21,
      "outputs": [
        {
          "output_type": "execute_result",
          "data": {
            "text/plain": [
              "Text(0, 0.5, '')"
            ]
          },
          "metadata": {
            "tags": []
          },
          "execution_count": 21
        },
        {
          "output_type": "display_data",
          "data": {
            "image/png": "[encoded data removed]",
            "text/plain": [
              "<Figure size 432x432 with 1 Axes>"
            ]
          },
          "metadata": {
            "tags": []
          }
        }
      ]
    },
    {
      "cell_type": "markdown",
      "metadata": {
        "id": "3pRsmbqBl0J2"
      },
      "source": [
        "<p>Agora sim! E nota-se que o países mudaram. Bem, o processo seletivo desses 5 países são bem diferentes, no entanto, algo que nós usaremos parar filtrar será a língua. Temos 3 países que falam inglês, logo é muito mais interessante nosso aluno aprender apenas o inglês e poder aplicar para os três países com maior quantidade de universidade no top 100 do que nosso aluno aprender Mandarim e Koreano.</p>\n",
        "<br>\n",
        "<p>Então, com base na língua filtraremos agora as universidades que residam nos EUA, Reino Unido ou Australia:</p>"
      ]
    },
    {
      "cell_type": "code",
      "metadata": {
        "execution": {
          "iopub.status.busy": "2021-06-24T17:59:04.762583Z",
          "iopub.execute_input": "2021-06-24T17:59:04.762951Z",
          "iopub.status.idle": "2021-06-24T17:59:04.777666Z",
          "shell.execute_reply.started": "2021-06-24T17:59:04.762920Z",
          "shell.execute_reply": "2021-06-24T17:59:04.776821Z"
        },
        "trusted": true,
        "colab": {
          "base_uri": "https://localhost:8080/",
          "height": 204
        },
        "id": "-qp4KFD8gKlx",
        "outputId": "ffcc0db7-05b7-49cf-f688-dbe15066756f"
      },
      "source": [
        "meus_paises = np.array(['United States','United Kingdom','Australia'])\n",
        "df = df.iloc[:100]\n",
        "df = df.loc[df.Country.isin(meus_paises)]\n",
        "df.head()"
      ],
      "execution_count": 22,
      "outputs": [
        {
          "output_type": "execute_result",
          "data": {
            "text/html": [
              "<div>\n",
              "<style scoped>\n",
              "    .dataframe tbody tr th:only-of-type {\n",
              "        vertical-align: middle;\n",
              "    }\n",
              "\n",
              "    .dataframe tbody tr th {\n",
              "        vertical-align: top;\n",
              "    }\n",
              "\n",
              "    .dataframe thead th {\n",
              "        text-align: right;\n",
              "    }\n",
              "</style>\n",
              "<table border=\"1\" class=\"dataframe\">\n",
              "  <thead>\n",
              "    <tr style=\"text-align: right;\">\n",
              "      <th></th>\n",
              "      <th>rank</th>\n",
              "      <th>Institution Name</th>\n",
              "      <th>Country</th>\n",
              "      <th>Classification</th>\n",
              "      <th>reputation</th>\n",
              "      <th>international</th>\n",
              "    </tr>\n",
              "  </thead>\n",
              "  <tbody>\n",
              "    <tr>\n",
              "      <th>1</th>\n",
              "      <td>1</td>\n",
              "      <td>Massachusetts Institute of Technology (MIT)</td>\n",
              "      <td>United States</td>\n",
              "      <td>M</td>\n",
              "      <td>100</td>\n",
              "      <td>94.1</td>\n",
              "    </tr>\n",
              "    <tr>\n",
              "      <th>2</th>\n",
              "      <td>2</td>\n",
              "      <td>Stanford University</td>\n",
              "      <td>United States</td>\n",
              "      <td>L</td>\n",
              "      <td>100</td>\n",
              "      <td>67.7</td>\n",
              "    </tr>\n",
              "    <tr>\n",
              "      <th>3</th>\n",
              "      <td>3</td>\n",
              "      <td>Harvard University</td>\n",
              "      <td>United States</td>\n",
              "      <td>L</td>\n",
              "      <td>100</td>\n",
              "      <td>62.2</td>\n",
              "    </tr>\n",
              "    <tr>\n",
              "      <th>4</th>\n",
              "      <td>4</td>\n",
              "      <td>University of Oxford</td>\n",
              "      <td>United Kingdom</td>\n",
              "      <td>L</td>\n",
              "      <td>100</td>\n",
              "      <td>98.5</td>\n",
              "    </tr>\n",
              "    <tr>\n",
              "      <th>5</th>\n",
              "      <td>5</td>\n",
              "      <td>California Institute of Technology (Caltech)</td>\n",
              "      <td>United States</td>\n",
              "      <td>S</td>\n",
              "      <td>97.8</td>\n",
              "      <td>87.3</td>\n",
              "    </tr>\n",
              "  </tbody>\n",
              "</table>\n",
              "</div>"
            ],
            "text/plain": [
              "  rank                              Institution Name  ... reputation international\n",
              "1    1   Massachusetts Institute of Technology (MIT)  ...        100          94.1\n",
              "2    2                           Stanford University  ...        100          67.7\n",
              "3    3                            Harvard University  ...        100          62.2\n",
              "4    4                          University of Oxford  ...        100          98.5\n",
              "5    5  California Institute of Technology (Caltech)  ...       97.8          87.3\n",
              "\n",
              "[5 rows x 6 columns]"
            ]
          },
          "metadata": {
            "tags": []
          },
          "execution_count": 22
        }
      ]
    },
    {
      "cell_type": "markdown",
      "metadata": {
        "id": "0ytS8MWbmC5B"
      },
      "source": [
        "<p>Exibimos apenas o top 5 para ficar mais fácil de visualizar. “Victor, qual próximo criterio eliminatório que seria bom a gente usar?”. Bem, talvez, já que nosso aluno está focado nesse processo, nós podíamos selecionar apenas as universidades que estejam acima da média das universidades restante de cada país no quesito reputação, ou seja, as mais renomadas de cada país.</p>\n",
        "<br>\n",
        "<p>Calculando as médias de cada países:</p>"
      ]
    },
    {
      "cell_type": "code",
      "metadata": {
        "execution": {
          "iopub.status.busy": "2021-06-24T18:55:39.895818Z",
          "iopub.execute_input": "2021-06-24T18:55:39.896142Z",
          "iopub.status.idle": "2021-06-24T18:55:39.904923Z",
          "shell.execute_reply.started": "2021-06-24T18:55:39.896115Z",
          "shell.execute_reply": "2021-06-24T18:55:39.904237Z"
        },
        "trusted": true,
        "colab": {
          "base_uri": "https://localhost:8080/"
        },
        "id": "FLr_HPg9gKly",
        "outputId": "e9230172-852b-4afe-88c3-10e63d77f340"
      },
      "source": [
        "df.reputation = pd.to_numeric(df.reputation)\n",
        "df.groupby('Country').reputation.mean()"
      ],
      "execution_count": 23,
      "outputs": [
        {
          "output_type": "execute_result",
          "data": {
            "text/plain": [
              "Country\n",
              "Australia         89.100000\n",
              "United Kingdom    77.255556\n",
              "United States     88.110345\n",
              "Name: reputation, dtype: float64"
            ]
          },
          "metadata": {
            "tags": []
          },
          "execution_count": 23
        }
      ]
    },
    {
      "cell_type": "markdown",
      "metadata": {
        "id": "ghc9kNitmQ8J"
      },
      "source": [
        "Guardando as médias:"
      ]
    },
    {
      "cell_type": "code",
      "metadata": {
        "execution": {
          "iopub.status.busy": "2021-06-24T18:34:13.199674Z",
          "iopub.execute_input": "2021-06-24T18:34:13.200017Z",
          "iopub.status.idle": "2021-06-24T18:34:13.206464Z",
          "shell.execute_reply.started": "2021-06-24T18:34:13.199984Z",
          "shell.execute_reply": "2021-06-24T18:34:13.205616Z"
        },
        "trusted": true,
        "colab": {
          "base_uri": "https://localhost:8080/"
        },
        "id": "mY5Ft0opgKly",
        "outputId": "acb7da53-eb99-4810-c3ee-091fd871067d"
      },
      "source": [
        "medias_reputacoes = pd.Series([89.0,79.0,88.0]) #Australia United Kingdom EUA\n",
        "medias_reputacoes"
      ],
      "execution_count": 24,
      "outputs": [
        {
          "output_type": "execute_result",
          "data": {
            "text/plain": [
              "0    89.0\n",
              "1    79.0\n",
              "2    88.0\n",
              "dtype: float64"
            ]
          },
          "metadata": {
            "tags": []
          },
          "execution_count": 24
        }
      ]
    },
    {
      "cell_type": "markdown",
      "metadata": {
        "id": "XyMKFLA_mTeI"
      },
      "source": [
        "Agora, nós selecionaremos apenas as universidades com reputações acima das médias calculadas para cada país:"
      ]
    },
    {
      "cell_type": "code",
      "metadata": {
        "execution": {
          "iopub.status.busy": "2021-06-24T18:36:01.225229Z",
          "iopub.execute_input": "2021-06-24T18:36:01.225549Z",
          "iopub.status.idle": "2021-06-24T18:36:01.242240Z",
          "shell.execute_reply.started": "2021-06-24T18:36:01.225522Z",
          "shell.execute_reply": "2021-06-24T18:36:01.241346Z"
        },
        "trusted": true,
        "colab": {
          "base_uri": "https://localhost:8080/",
          "height": 204
        },
        "id": "0hZ2GbotgKly",
        "outputId": "f734bc59-bff6-423f-bc9b-25da2b52f70f"
      },
      "source": [
        "df = df.loc[\n",
        "    ((df.Country == 'Australia') & (df.reputation > medias_reputacoes[0]))                  \n",
        "| ((df.Country == 'United Kingdom') & (df.reputation > medias_reputacoes[1]))\n",
        "| ((df.Country == 'United States') & (df.reputation > medias_reputacoes[2]))\n",
        "]\n",
        "df.head()"
      ],
      "execution_count": 25,
      "outputs": [
        {
          "output_type": "execute_result",
          "data": {
            "text/html": [
              "<div>\n",
              "<style scoped>\n",
              "    .dataframe tbody tr th:only-of-type {\n",
              "        vertical-align: middle;\n",
              "    }\n",
              "\n",
              "    .dataframe tbody tr th {\n",
              "        vertical-align: top;\n",
              "    }\n",
              "\n",
              "    .dataframe thead th {\n",
              "        text-align: right;\n",
              "    }\n",
              "</style>\n",
              "<table border=\"1\" class=\"dataframe\">\n",
              "  <thead>\n",
              "    <tr style=\"text-align: right;\">\n",
              "      <th></th>\n",
              "      <th>rank</th>\n",
              "      <th>Institution Name</th>\n",
              "      <th>Country</th>\n",
              "      <th>Classification</th>\n",
              "      <th>reputation</th>\n",
              "      <th>international</th>\n",
              "    </tr>\n",
              "  </thead>\n",
              "  <tbody>\n",
              "    <tr>\n",
              "      <th>1</th>\n",
              "      <td>1</td>\n",
              "      <td>Massachusetts Institute of Technology (MIT)</td>\n",
              "      <td>United States</td>\n",
              "      <td>M</td>\n",
              "      <td>100.0</td>\n",
              "      <td>94.1</td>\n",
              "    </tr>\n",
              "    <tr>\n",
              "      <th>2</th>\n",
              "      <td>2</td>\n",
              "      <td>Stanford University</td>\n",
              "      <td>United States</td>\n",
              "      <td>L</td>\n",
              "      <td>100.0</td>\n",
              "      <td>67.7</td>\n",
              "    </tr>\n",
              "    <tr>\n",
              "      <th>3</th>\n",
              "      <td>3</td>\n",
              "      <td>Harvard University</td>\n",
              "      <td>United States</td>\n",
              "      <td>L</td>\n",
              "      <td>100.0</td>\n",
              "      <td>62.2</td>\n",
              "    </tr>\n",
              "    <tr>\n",
              "      <th>4</th>\n",
              "      <td>4</td>\n",
              "      <td>University of Oxford</td>\n",
              "      <td>United Kingdom</td>\n",
              "      <td>L</td>\n",
              "      <td>100.0</td>\n",
              "      <td>98.5</td>\n",
              "    </tr>\n",
              "    <tr>\n",
              "      <th>5</th>\n",
              "      <td>5</td>\n",
              "      <td>California Institute of Technology (Caltech)</td>\n",
              "      <td>United States</td>\n",
              "      <td>S</td>\n",
              "      <td>97.8</td>\n",
              "      <td>87.3</td>\n",
              "    </tr>\n",
              "  </tbody>\n",
              "</table>\n",
              "</div>"
            ],
            "text/plain": [
              "  rank                              Institution Name  ... reputation international\n",
              "1    1   Massachusetts Institute of Technology (MIT)  ...      100.0          94.1\n",
              "2    2                           Stanford University  ...      100.0          67.7\n",
              "3    3                            Harvard University  ...      100.0          62.2\n",
              "4    4                          University of Oxford  ...      100.0          98.5\n",
              "5    5  California Institute of Technology (Caltech)  ...       97.8          87.3\n",
              "\n",
              "[5 rows x 6 columns]"
            ]
          },
          "metadata": {
            "tags": []
          },
          "execution_count": 25
        }
      ]
    },
    {
      "cell_type": "markdown",
      "metadata": {
        "id": "ll-WlV6Gm3Yt"
      },
      "source": [
        "<p>Aqui, nós motramos apenas 5 universidades, não é a quantidade total. “Mas, Victor, uma College List tem, mais ou menos 10 universidades, quantas restaram?”. Boa! vou te mostrar agora:</p>"
      ]
    },
    {
      "cell_type": "code",
      "metadata": {
        "execution": {
          "iopub.status.busy": "2021-06-24T18:38:19.554703Z",
          "iopub.execute_input": "2021-06-24T18:38:19.555038Z",
          "iopub.status.idle": "2021-06-24T18:38:19.560462Z",
          "shell.execute_reply.started": "2021-06-24T18:38:19.555008Z",
          "shell.execute_reply": "2021-06-24T18:38:19.559610Z"
        },
        "trusted": true,
        "colab": {
          "base_uri": "https://localhost:8080/"
        },
        "id": "A4KbvoVRgKlz",
        "outputId": "f16cf833-3bf2-4a18-a21d-7207af9cce2f"
      },
      "source": [
        "df.shape"
      ],
      "execution_count": 26,
      "outputs": [
        {
          "output_type": "execute_result",
          "data": {
            "text/plain": [
              "(30, 6)"
            ]
          },
          "metadata": {
            "tags": []
          },
          "execution_count": 26
        }
      ]
    },
    {
      "cell_type": "markdown",
      "metadata": {
        "id": "SPCKyQHInA-_"
      },
      "source": [
        "<p>Ou seja, temos 30 universidades ainda. “Victor, qual será o próximo requisito usado?”. Você está animadinho, hein? Contudo, para esse caso não é interessante usarmos apenas os números para tomar a decisão, pois o fit cultural também é muito importante. Por exemplo, Harvard está na lista, mas talvez a cultura que haja em Harvard não é muito compatível com os valores do nosso aluno.</p>\n",
        "<p>Dessa maneira, o melhor a se fazer é entregar essa lista com as 30 melhores universidades que encontramos usando aqueles critérios e ele, de forma autônoma, escolher quais dessas universidades “são mais a sua cara”.\n",
        "</p>"
      ]
    },
    {
      "cell_type": "markdown",
      "metadata": {
        "id": "VlOH1ydXnQ0x"
      },
      "source": [
        "<h1>Conclusão</h1>\n",
        "<p>Dev, seu café provavelmente já secou, seu óculos embaçou e nós concluímos nossa análise. Nós pegamos as 1000 melhores universidades e selecionamos apenas 30 com várias metodologias de forma lógica utilitzando Python com a trindade da análise de dados: Pandas, Numpy e Matplotlib.</p>"
      ]
    }
  ]
}